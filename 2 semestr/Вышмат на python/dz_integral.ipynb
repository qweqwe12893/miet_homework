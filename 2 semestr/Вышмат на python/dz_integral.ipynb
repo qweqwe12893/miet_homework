{
 "cells": [
  {
   "cell_type": "code",
   "execution_count": 20,
   "id": "af1c701f-532a-4501-9640-dfb50b5a06c1",
   "metadata": {},
   "outputs": [
    {
     "name": "stdout",
     "output_type": "stream",
     "text": [
      "Значение интеграла с scipy: -0.09508938695432631\n",
      "Значение интеграла с sympy: -0.0950894080791708\n"
     ]
    }
   ],
   "source": [
    "#------------1------------\n",
    "\n",
    "import scipy.integrate as integrate\n",
    "import numpy as np\n",
    "\n",
    "x = np.linspace(0, 1, 100)\n",
    "res = integrate.simpson(x*np.sin(5*x), x, dx=0.1)\n",
    "\n",
    "print(\"Значение интеграла с scipy:\", res)\n",
    "\n",
    "\n",
    "\n",
    "\n",
    "from sympy import Symbol, integrate, sin\n",
    "\n",
    "t = Symbol('t')\n",
    "\n",
    "res = integrate(t*sin(5*t), (t, 0, 1))\n",
    "\n",
    "print(\"Значение интеграла с sympy:\", float(res))"
   ]
  },
  {
   "cell_type": "code",
   "execution_count": 25,
   "id": "730e971d-343c-4dfc-b076-593d2808c50b",
   "metadata": {},
   "outputs": [
    {
     "name": "stdout",
     "output_type": "stream",
     "text": [
      "Значение интеграла с scipy: 0.36060310582018423\n",
      "Значение интеграла с sympy: 0.36060310294208064\n"
     ]
    }
   ],
   "source": [
    "#------------2------------\n",
    "\n",
    "import scipy.integrate as integrate\n",
    "import numpy as np\n",
    "\n",
    "x = np.linspace(0, 1, 100)\n",
    "res = integrate.simpson(1/((x**2+1) * (x-2)**2), x, dx=0.1)\n",
    "\n",
    "print(\"Значение интеграла с scipy:\", res)\n",
    "\n",
    "\n",
    "\n",
    "\n",
    "from sympy import Symbol, integrate\n",
    "\n",
    "t = Symbol('t')\n",
    "\n",
    "res = integrate(1/((t**2+1) * (t-2)**2), (t, 0, 1))\n",
    "\n",
    "print(\"Значение интеграла с sympy:\", float(res))"
   ]
  },
  {
   "cell_type": "code",
   "execution_count": 29,
   "id": "687679ac-2529-4ecf-bac7-fc103d2bda62",
   "metadata": {},
   "outputs": [
    {
     "name": "stdout",
     "output_type": "stream",
     "text": [
      "Значение интеграла с scipy: 1.5699820458726887\n",
      "Значение интеграла с sympy: 1.5707963267948966\n"
     ]
    }
   ],
   "source": [
    "#------------3------------\n",
    "\n",
    "from scipy.integrate import simpson\n",
    "from numpy import linspace\n",
    "\n",
    "x = linspace(-1, 1, 100)\n",
    "\n",
    "res = simpson((1-x**2)**0.5, x, dx=0.1)\n",
    "\n",
    "print(\"Значение интеграла с scipy:\", res)\n",
    "\n",
    "\n",
    "\n",
    "\n",
    "from sympy import Symbol, integrate\n",
    "\n",
    "t = Symbol('t')\n",
    "\n",
    "res = integrate((1-t**2)**0.5, (t, -1, 1))\n",
    "\n",
    "print(\"Значение интеграла с sympy:\", float(res))"
   ]
  },
  {
   "cell_type": "code",
   "execution_count": 40,
   "id": "0c0d7dd3-3dea-4d97-9850-f7833f7083e0",
   "metadata": {},
   "outputs": [
    {
     "name": "stdout",
     "output_type": "stream",
     "text": [
      "Значение интеграла с scipy: 4.485588251791411\n",
      "Значение интеграла с sympy: 4.485580235538532\n"
     ]
    }
   ],
   "source": [
    "#------------4------------\n",
    "\n",
    "from scipy.integrate import simpson\n",
    "\n",
    "import numpy as np\n",
    "\n",
    "x = np.linspace(-1, 1, 100)\n",
    "\n",
    "res = simpson(x * np.exp(3*x), x, dx=0.1)\n",
    "\n",
    "print(\"Значение интеграла с scipy:\", res)\n",
    "\n",
    "\n",
    "\n",
    "\n",
    "from sympy import Symbol, integrate, exp\n",
    "\n",
    "t = Symbol('t')\n",
    "\n",
    "res = integrate(t * exp(3*t), (t, -1, 1))\n",
    "\n",
    "print(\"Значение интеграла с sympy:\", float(res))"
   ]
  },
  {
   "cell_type": "code",
   "execution_count": 1,
   "id": "8c789393-9f6f-48eb-a367-036be92bb7c5",
   "metadata": {},
   "outputs": [
    {
     "name": "stdout",
     "output_type": "stream",
     "text": [
      "Значение интегральных сумм:\n",
      "35.5 при n=2\n",
      "30.56 при n=4\n",
      "27.41 при n=8\n",
      "25.73 при n=16\n",
      "24.87 при n=32\n",
      "24.44 при n=64\n",
      "24.22 при n=128\n",
      "24.11 при n=256\n",
      "24.05 при n=512\n",
      "24.03 при n=1024\n",
      "Реальное значение интеграла: 24.0\n"
     ]
    }
   ],
   "source": [
    "# Задание № 1 c скрина\n",
    "\n",
    "def f(x):\n",
    "    return -x**3+1\n",
    "\n",
    "a = -3\n",
    "b = 1\n",
    "\n",
    "import numpy as np\n",
    "\n",
    "print(\"Значение интегральных сумм:\")\n",
    "for dividing in range(1, 11):\n",
    "    dividing = 2 ** dividing\n",
    "    \n",
    "    x = np.linspace(-3, 1, dividing+1)\n",
    "    delta_x = x[1]-x[0]\n",
    "    integral_sum = 0\n",
    "    for i in range(len(x)-1):\n",
    "        \n",
    "        epsilon = delta_x/4 + x[i] # точка которая делит отрезок 1 к 3\n",
    "\n",
    "        integral_sum += abs(delta_x * f(epsilon))\n",
    "\n",
    "    print(round(integral_sum, 2), f\"при n={dividing}\")\n",
    "\n",
    "\n",
    "from sympy import Symbol, integrate\n",
    "\n",
    "t = Symbol(\"t\")\n",
    "\n",
    "res = integrate(-t**3+1, (t, -3, 1))\n",
    "\n",
    "print(\"Реальное значение интеграла:\", float(res))"
   ]
  },
  {
   "cell_type": "code",
   "execution_count": 2,
   "id": "c8d9a2f7-7584-44be-b830-f22d0212aa82",
   "metadata": {},
   "outputs": [
    {
     "name": "stdout",
     "output_type": "stream",
     "text": [
      "n = 2\n",
      "Нижняя  сумма Дарбу: 4.0\n",
      "Верхняя сумма Дарбу: 60.0\n",
      "\n",
      "n = 4\n",
      "Нижняя  сумма Дарбу: 12.0\n",
      "Верхняя сумма Дарбу: 40.0\n",
      "\n",
      "n = 8\n",
      "Нижняя  сумма Дарбу: 17.5\n",
      "Верхняя сумма Дарбу: 31.5\n",
      "\n",
      "n = 16\n",
      "Нижняя  сумма Дарбу: 20.62\n",
      "Верхняя сумма Дарбу: 27.62\n",
      "\n",
      "n = 32\n",
      "Нижняя  сумма Дарбу: 22.28\n",
      "Верхняя сумма Дарбу: 25.78\n",
      "\n",
      "n = 64\n",
      "Нижняя  сумма Дарбу: 23.13\n",
      "Верхняя сумма Дарбу: 24.88\n",
      "\n",
      "n = 128\n",
      "Нижняя  сумма Дарбу: 23.56\n",
      "Верхняя сумма Дарбу: 24.44\n",
      "\n",
      "n = 256\n",
      "Нижняя  сумма Дарбу: 23.78\n",
      "Верхняя сумма Дарбу: 24.22\n",
      "\n",
      "n = 512\n",
      "Нижняя  сумма Дарбу: 23.89\n",
      "Верхняя сумма Дарбу: 24.11\n",
      "\n",
      "n = 1024\n",
      "Нижняя  сумма Дарбу: 23.95\n",
      "Верхняя сумма Дарбу: 24.05\n",
      "\n",
      "Интеграл от f(x) = -3x + 1 лежит между 23.95 и 24.05\n"
     ]
    }
   ],
   "source": [
    "import numpy as np\n",
    "from random import sample, randint\n",
    "\n",
    "a = -3\n",
    "b = 1\n",
    "def f(x):\n",
    "    return -x**3+1\n",
    "\n",
    "for n in range(1, 11):\n",
    "    n = 2**n\n",
    "\n",
    "    x = np.linspace(a, b, n+1)\n",
    "    x_delta = x[1] - x[0]\n",
    "    \n",
    "    upper_darbu_sum = 0\n",
    "    lower_darbu_sum = 0\n",
    "\n",
    "    for i in range(n):\n",
    "        \n",
    "        upper_darbu_sum += max(f(x[i]), f(x[i+1]))*x_delta\n",
    "        lower_darbu_sum += min(f(x[i]), f(x[i+1]))*x_delta\n",
    "        \n",
    "    lower_darbu_sum = round(lower_darbu_sum, 2)\n",
    "    upper_darbu_sum = round(upper_darbu_sum, 2)\n",
    "    \n",
    "    print(\"n =\", n)\n",
    "    print('Нижняя  сумма Дарбу:', lower_darbu_sum)\n",
    "    print('Верхняя сумма Дарбу:', upper_darbu_sum)\n",
    "    print()\n",
    "\n",
    "print(f\"Интеграл от f(x) = -3x + 1 лежит между {lower_darbu_sum} и {upper_darbu_sum}\")\n"
   ]
  },
  {
   "cell_type": "code",
   "execution_count": null,
   "id": "173ae26e-070f-47b4-be66-512849e5ff8b",
   "metadata": {},
   "outputs": [],
   "source": []
  }
 ],
 "metadata": {
  "kernelspec": {
   "display_name": "Python 3 (ipykernel)",
   "language": "python",
   "name": "python3"
  },
  "language_info": {
   "codemirror_mode": {
    "name": "ipython",
    "version": 3
   },
   "file_extension": ".py",
   "mimetype": "text/x-python",
   "name": "python",
   "nbconvert_exporter": "python",
   "pygments_lexer": "ipython3",
   "version": "3.13.1"
  }
 },
 "nbformat": 4,
 "nbformat_minor": 5
}
