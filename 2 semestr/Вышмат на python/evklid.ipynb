{
 "cells": [
  {
   "cell_type": "code",
   "execution_count": 33,
   "id": "45a73aef-15f5-45b2-aa9f-95882ceabaa0",
   "metadata": {},
   "outputs": [
    {
     "name": "stdout",
     "output_type": "stream",
     "text": [
      "Расстояние между точками (1, 2, 3, 4) и (7, 3, 4, 200) в различных метриках:\n",
      "196\n",
      "204\n",
      "204.33795535827406\n"
     ]
    }
   ],
   "source": [
    "#-----------------1-----------------\n",
    "import numpy as np\n",
    "\n",
    "def distance_max(x, y):\n",
    "    return max(abs(np.array(x) - np.array(y)))\n",
    "\n",
    "def distance_sum(x, y):\n",
    "    return sum(abs( np.array(x) - np.array(y) ))\n",
    "\n",
    "def distance_sqrt(x, y):\n",
    "    return np.sqrt( sum( (np.array(x) + np.array(y))**2 ) )\n",
    "\n",
    "A = (1, 2, 3, 4)\n",
    "B = (7, 3, 4, 200)\n",
    "print(f\"Расстояние между точками {A} и {B} в различных метриках:\")\n",
    "print(distance_max( A, B ))\n",
    "print(distance_sum( A, B ))\n",
    "print(distance_sqrt( A, B ))\n",
    "    "
   ]
  },
  {
   "cell_type": "code",
   "execution_count": null,
   "id": "6291b9d5-43a3-4d35-bbdb-6d1e854f2df2",
   "metadata": {},
   "outputs": [],
   "source": [
    "#-----------------2-----------------\n"
   ]
  }
 ],
 "metadata": {
  "kernelspec": {
   "display_name": "Python 3 (ipykernel)",
   "language": "python",
   "name": "python3"
  },
  "language_info": {
   "codemirror_mode": {
    "name": "ipython",
    "version": 3
   },
   "file_extension": ".py",
   "mimetype": "text/x-python",
   "name": "python",
   "nbconvert_exporter": "python",
   "pygments_lexer": "ipython3",
   "version": "3.12.7"
  }
 },
 "nbformat": 4,
 "nbformat_minor": 5
}
