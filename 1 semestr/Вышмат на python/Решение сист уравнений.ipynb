{
 "cells": [
  {
   "cell_type": "code",
   "execution_count": 16,
   "id": "6dbd87cb-0a37-40d0-99a3-232d6b22cf88",
   "metadata": {},
   "outputs": [
    {
     "name": "stdout",
     "output_type": "stream",
     "text": [
      "Решение системы уравнений:\n",
      "x1 = -1\n",
      "x2 = 1\n",
      "x3 = 0\n",
      "x4 = -1\n"
     ]
    }
   ],
   "source": [
    "import numpy as np\n",
    "from sympy import *\n",
    "\n",
    "A = Matrix([[2, 2, -1, 1], [4, 3, -1, 2], [8, 5, -3, 4], [3, 3, -2, 2]])\n",
    "\n",
    "x1, x2, x3, x4 = symbols('x1 x2 x3 x4')\n",
    "B = Matrix([-1, -3, -7, -2])\n",
    "X = linsolve((A, B), x1, x2, x3, x4)\n",
    "\n",
    "c = 1\n",
    "print(\"Решение системы уравнений:\")\n",
    "for i in X:\n",
    "    for j in i:\n",
    "        print(f'x{c} = {j}')\n",
    "        c += 1"
   ]
  },
  {
   "cell_type": "code",
   "execution_count": 31,
   "id": "3f9c77d4-417b-458b-bf9f-63e2d7420dc7",
   "metadata": {},
   "outputs": [
    {
     "name": "stdout",
     "output_type": "stream",
     "text": [
      "2\n",
      "\n",
      "Фундаментальная система решений:\n",
      "⎡⎡-1⎤  ⎡0⎤⎤\n",
      "⎢⎢  ⎥  ⎢ ⎥⎥\n",
      "⎢⎢1 ⎥  ⎢2⎥⎥\n",
      "⎢⎢  ⎥, ⎢ ⎥⎥\n",
      "⎢⎢1 ⎥  ⎢0⎥⎥\n",
      "⎢⎢  ⎥  ⎢ ⎥⎥\n",
      "⎣⎣0 ⎦  ⎣1⎦⎦\n",
      "\n",
      "Общее решение:\n",
      "⎡   -x₃   ⎤\n",
      "⎢         ⎥\n",
      "⎢x₃ + 2⋅x₄⎥\n",
      "⎢         ⎥\n",
      "⎢   x₃    ⎥\n",
      "⎢         ⎥\n",
      "⎣   x₄    ⎦\n"
     ]
    }
   ],
   "source": [
    "import numpy as np\n",
    "from sympy import *\n",
    "\n",
    "A = Matrix([[0, 1, -1, -2], [2, -1, 3, 2], [1, 0, 1, 0], [4, -1, 5, 2]])\n",
    "pprint(A.rank())\n",
    "\n",
    "EE = A.nullspace()\n",
    "\n",
    "x3, x4 = symbols('x3, x4')\n",
    "print(\"\\nФундаментальная система решений:\")\n",
    "pprint(EE)\n",
    "\n",
    "print(\"\\nОбщее решение:\")\n",
    "pprint(x3*EE[0] + x4*EE[1])"
   ]
  },
  {
   "cell_type": "code",
   "execution_count": null,
   "id": "8f86d85c-7162-42fc-80e4-21e2a6ddb2d6",
   "metadata": {},
   "outputs": [],
   "source": []
  }
 ],
 "metadata": {
  "kernelspec": {
   "display_name": "Python 3 (ipykernel)",
   "language": "python",
   "name": "python3"
  },
  "language_info": {
   "codemirror_mode": {
    "name": "ipython",
    "version": 3
   },
   "file_extension": ".py",
   "mimetype": "text/x-python",
   "name": "python",
   "nbconvert_exporter": "python",
   "pygments_lexer": "ipython3",
   "version": "3.13.0"
  }
 },
 "nbformat": 4,
 "nbformat_minor": 5
}
