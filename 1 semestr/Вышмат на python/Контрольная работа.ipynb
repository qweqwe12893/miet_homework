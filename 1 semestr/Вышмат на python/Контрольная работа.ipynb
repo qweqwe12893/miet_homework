{
 "cells": [
  {
   "cell_type": "code",
   "execution_count": 1,
   "id": "3632dc25-4e49-4441-858d-4852680a818f",
   "metadata": {},
   "outputs": [],
   "source": [
    "# 1 вар"
   ]
  },
  {
   "cell_type": "code",
   "execution_count": 81,
   "id": "2c2b22b8-d55e-4c75-a965-98f0c0a1ca0d",
   "metadata": {},
   "outputs": [
    {
     "name": "stdout",
     "output_type": "stream",
     "text": [
      "Решения: x = 0.57, y = 1.2\n"
     ]
    },
    {
     "data": {
      "image/png": "[encoded data removed]",
      "text/plain": [
       "<Figure size 640x480 with 1 Axes>"
      ]
     },
     "metadata": {},
     "output_type": "display_data"
    }
   ],
   "source": [
    "# 1 задание\n",
    "import matplotlib.pyplot as plt\n",
    "import numpy as np\n",
    "\n",
    "det = round(np.linalg.det([[2**-0.5, 3], [2, -3*2**-0.5]]), 2)\n",
    "\n",
    "detx = round(np.linalg.det([[4, 3], [-2**0.5, -3*2**-0.5]]), 2)\n",
    "\n",
    "dety = round(np.linalg.det([[2**-0.5, 4], [2, -2**0.5]]), 2)\n",
    "\n",
    "print(f\"\"\"Решения: x = {round(detx / det, 2)}, y = {round(dety / det, 2)}\"\"\")\n",
    "\n",
    "\n",
    "\n",
    "# Графическое решение\n",
    "\n",
    "x = np.linspace(-5, 5, 100)\n",
    "\n",
    "def f1(x):\n",
    "    return (4 - x/2**0.5) / 3\n",
    "\n",
    "def f2(x):\n",
    "    return (2*x + 2**0.5) / (3*2**0.5)\n",
    "\n",
    "h1 = plt.plot(x, f1(x), color='lime')\n",
    "h2 = plt.plot(x, f2(x), color='red')\n",
    "\n",
    "plt.grid()\n"
   ]
  },
  {
   "cell_type": "code",
   "execution_count": 112,
   "id": "dccddcfe-96ce-4ba8-a59a-efe576739544",
   "metadata": {},
   "outputs": [
    {
     "name": "stdout",
     "output_type": "stream",
     "text": [
      "[[0.56568542]] [[1.2]]\n"
     ]
    }
   ],
   "source": [
    "# 2 задание\n",
    "import numpy as np\n",
    "\n",
    "M = np.matrix([[2**-0.5, 3], [2, -3*2**-0.5]])\n",
    "inverted = np.linalg.inv(M)\n",
    "B = np.matrix([[4], [-2**0.5]])\n",
    "\n",
    "res =inverted * B\n",
    "\n",
    "print(*res)"
   ]
  },
  {
   "cell_type": "code",
   "execution_count": 68,
   "id": "9c36cc69-9b95-4cb3-9a1b-d8b26b2691bc",
   "metadata": {},
   "outputs": [
    {
     "name": "stdout",
     "output_type": "stream",
     "text": [
      "d = 2.0i + -3.0j + -1.0k \n"
     ]
    }
   ],
   "source": [
    "# 3 задание\n",
    "\n",
    "import numpy as np\n",
    "\n",
    "M = np.matrix([[12, -8, 6],\n",
    "              [-10, -7, 5],\n",
    "              [44,-5, -13]])\n",
    "\n",
    "if np.linalg.det(M)==0:\n",
    "    print(\"Векторы линейно зависимы\")\n",
    "else:\n",
    "\n",
    "    A = np.matrix([[12, -10, 44],\n",
    "                   [-8, -7, -5],\n",
    "                   [6, 5, -13]])\n",
    "    detA = np.linalg.det([A])\n",
    "\n",
    "    detx = np.linalg.det([[10, -10, 44],\n",
    "                          [10, -7, -5],\n",
    "                          [10, 5, -13]])\n",
    "    \n",
    "    dety = np.linalg.det([[12, 10, 44],\n",
    "                          [-8, 10, -5],\n",
    "                          [6, 10, -13]])\n",
    "\n",
    "    detz = np.linalg.det([[12, -10, 10],\n",
    "                          [-8, -7, 10],\n",
    "                          [6, 5, 10]])\n",
    "    x = detx / detA\n",
    "    y = dety / detA\n",
    "    z = detz / detA\n",
    "   \n",
    "    print(f\"\"\"d = {round(x[0], 2)}i + {round(y[0], 2)}j + {round(z[0], 2)}k \"\"\")"
   ]
  },
  {
   "cell_type": "code",
   "execution_count": 70,
   "id": "e1662458-2a58-4aa3-bb67-c82a520b14ef",
   "metadata": {},
   "outputs": [
    {
     "name": "stdout",
     "output_type": "stream",
     "text": [
      "3.6742346141747673\n"
     ]
    }
   ],
   "source": [
    "# 4 задание\n",
    "\n",
    "import numpy as np\n",
    "\n",
    "A = np.array([1, 2, 0])\n",
    "B = np.array([3, 2, 1])\n",
    "C = np.array([-2, 1, 2])\n",
    "\n",
    "AB = B - A\n",
    "AC = C - A\n",
    "\n",
    "cos = np.dot(AB, AC) / (np.linalg.norm(AB) * np.linalg.norm(AC))\n",
    "sin = (1 - cos**2)**0.5\n",
    "\n",
    "V = 0.5 * np.linalg.norm(AB) * np.linalg.norm(AC) * sin\n",
    "\n",
    "print(V)"
   ]
  },
  {
   "cell_type": "code",
   "execution_count": 73,
   "id": "62c30463-0e17-4420-bea4-2159a872caba",
   "metadata": {},
   "outputs": [
    {
     "name": "stdout",
     "output_type": "stream",
     "text": [
      "Объем пирамиды: 21.5\n"
     ]
    }
   ],
   "source": [
    "# 5 задание\n",
    "\n",
    "import numpy as np\n",
    "\n",
    "A = np.array([7, 2, 4])\n",
    "B = np.array([7, -1, -2])\n",
    "C = np.array([3, 3, 1])\n",
    "D = np.array([-4, 2, 1])\n",
    "\n",
    "AD = D - A\n",
    "AB = B - A\n",
    "AC = C - A\n",
    "\n",
    "matrix = np.array([AB, AC, AD])\n",
    "V = abs(np.linalg.det(matrix) / 6)\n",
    "\n",
    "print(f\"\"\"Объем пирамиды: {round(V, 2)}\"\"\")"
   ]
  },
  {
   "cell_type": "code",
   "execution_count": null,
   "id": "9acd33f5-0e77-4dfe-9b41-8a7705453814",
   "metadata": {},
   "outputs": [],
   "source": []
  }
 ],
 "metadata": {
  "kernelspec": {
   "display_name": "Python 3 (ipykernel)",
   "language": "python",
   "name": "python3"
  },
  "language_info": {
   "codemirror_mode": {
    "name": "ipython",
    "version": 3
   },
   "file_extension": ".py",
   "mimetype": "text/x-python",
   "name": "python",
   "nbconvert_exporter": "python",
   "pygments_lexer": "ipython3",
   "version": "3.12.4"
  }
 },
 "nbformat": 4,
 "nbformat_minor": 5
}
